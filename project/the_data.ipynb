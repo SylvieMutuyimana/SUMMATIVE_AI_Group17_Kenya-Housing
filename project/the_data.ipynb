{
  "cells": [
    {
      "cell_type": "markdown",
      "metadata": {},
      "source": [
        "Importing required libraries"
      ]
    },
    {
      "cell_type": "code",
      "execution_count": 1,
      "metadata": {
        "id": "eDD7ZQ2h31bf"
      },
      "outputs": [],
      "source": [
        "import pandas as pd\n",
        "import numpy as np\n",
        "import matplotlib.pyplot as plt\n",
        "import seaborn as sns\n",
        "from sklearn.model_selection import train_test_split\n",
        "from sklearn.tree import DecisionTreeRegressor\n",
        "from sklearn.preprocessing import OneHotEncoder\n",
        "import joblib"
      ]
    },
    {
      "attachments": {},
      "cell_type": "markdown",
      "metadata": {
        "id": "hNKKClpT7L5B"
      },
      "source": [
        "Loading the datasets"
      ]
    },
    {
      "cell_type": "code",
      "execution_count": 2,
      "metadata": {
        "id": "aiu0QtPV47Q3"
      },
      "outputs": [
        {
          "data": {
            "text/plain": [
              "Index(['Unnamed: 0', 'title', 'location', 'bedrooms', 'bathrooms', 'price',\n",
              "       'rate'],\n",
              "      dtype='object')"
            ]
          },
          "execution_count": 2,
          "metadata": {},
          "output_type": "execute_result"
        }
      ],
      "source": [
        "df_aparts = pd.read_csv('apartments.csv')\n",
        "df_aparts.columns"
      ]
    },
    {
      "cell_type": "code",
      "execution_count": 3,
      "metadata": {},
      "outputs": [
        {
          "data": {
            "text/plain": [
              "Index(['Agency', 'Neighborhood', 'Price', 'link', 'sq_mtrs', 'Bedrooms',\n",
              "       'Bathrooms'],\n",
              "      dtype='object')"
            ]
          },
          "execution_count": 3,
          "metadata": {},
          "output_type": "execute_result"
        }
      ],
      "source": [
        "df_rentapts = pd.read_csv('rent_apts.csv')\n",
        "df_rentapts.columns"
      ]
    },
    {
      "cell_type": "code",
      "execution_count": 4,
      "metadata": {},
      "outputs": [
        {
          "data": {
            "text/html": [
              "<div>\n",
              "<style scoped>\n",
              "    .dataframe tbody tr th:only-of-type {\n",
              "        vertical-align: middle;\n",
              "    }\n",
              "\n",
              "    .dataframe tbody tr th {\n",
              "        vertical-align: top;\n",
              "    }\n",
              "\n",
              "    .dataframe thead th {\n",
              "        text-align: right;\n",
              "    }\n",
              "</style>\n",
              "<table border=\"1\" class=\"dataframe\">\n",
              "  <thead>\n",
              "    <tr style=\"text-align: right;\">\n",
              "      <th></th>\n",
              "      <th>Unnamed: 0</th>\n",
              "      <th>title</th>\n",
              "      <th>location</th>\n",
              "      <th>bedrooms</th>\n",
              "      <th>bathrooms</th>\n",
              "      <th>price</th>\n",
              "      <th>rate</th>\n",
              "    </tr>\n",
              "  </thead>\n",
              "  <tbody>\n",
              "    <tr>\n",
              "      <th>0</th>\n",
              "      <td>0</td>\n",
              "      <td>3 Bedroom Apartment / Flat to rent in Riverside</td>\n",
              "      <td>Riverside Dr Nairobi, Riverside, Nairobi</td>\n",
              "      <td>3</td>\n",
              "      <td>3</td>\n",
              "      <td>200 000</td>\n",
              "      <td>Per Month</td>\n",
              "    </tr>\n",
              "    <tr>\n",
              "      <th>1</th>\n",
              "      <td>1</td>\n",
              "      <td>3 Bedroom Apartment / Flat to rent in Kileleshwa</td>\n",
              "      <td>Kileleshwa, Nairobi</td>\n",
              "      <td>3</td>\n",
              "      <td>4</td>\n",
              "      <td>70 000</td>\n",
              "      <td>Per Month</td>\n",
              "    </tr>\n",
              "    <tr>\n",
              "      <th>2</th>\n",
              "      <td>2</td>\n",
              "      <td>3 Bedroom Apartment / Flat to rent in Nyali</td>\n",
              "      <td>Links Rd Mombasa, Nyali, Mombasa</td>\n",
              "      <td>3</td>\n",
              "      <td>2</td>\n",
              "      <td>38 000</td>\n",
              "      <td>Per Month</td>\n",
              "    </tr>\n",
              "    <tr>\n",
              "      <th>3</th>\n",
              "      <td>3</td>\n",
              "      <td>3 Bedroom Apartment / Flat to rent in Lavington</td>\n",
              "      <td>Near Valley Arcade, Lavington, Nairobi</td>\n",
              "      <td>3</td>\n",
              "      <td>3</td>\n",
              "      <td>80 000</td>\n",
              "      <td>Per Month</td>\n",
              "    </tr>\n",
              "    <tr>\n",
              "      <th>4</th>\n",
              "      <td>4</td>\n",
              "      <td>1 Bedroom Apartment / Flat to rent in Kileleshwa</td>\n",
              "      <td>Kileleshwa, Nairobi</td>\n",
              "      <td>1</td>\n",
              "      <td>1</td>\n",
              "      <td>110 000</td>\n",
              "      <td>Per Month</td>\n",
              "    </tr>\n",
              "  </tbody>\n",
              "</table>\n",
              "</div>"
            ],
            "text/plain": [
              "   Unnamed: 0                                             title   \n",
              "0           0   3 Bedroom Apartment / Flat to rent in Riverside  \\\n",
              "1           1  3 Bedroom Apartment / Flat to rent in Kileleshwa   \n",
              "2           2       3 Bedroom Apartment / Flat to rent in Nyali   \n",
              "3           3   3 Bedroom Apartment / Flat to rent in Lavington   \n",
              "4           4  1 Bedroom Apartment / Flat to rent in Kileleshwa   \n",
              "\n",
              "                                   location  bedrooms  bathrooms     price   \n",
              "0  Riverside Dr Nairobi, Riverside, Nairobi         3          3   200 000  \\\n",
              "1                       Kileleshwa, Nairobi         3          4    70 000   \n",
              "2          Links Rd Mombasa, Nyali, Mombasa         3          2    38 000   \n",
              "3    Near Valley Arcade, Lavington, Nairobi         3          3    80 000   \n",
              "4                       Kileleshwa, Nairobi         1          1   110 000   \n",
              "\n",
              "        rate  \n",
              "0  Per Month  \n",
              "1  Per Month  \n",
              "2  Per Month  \n",
              "3  Per Month  \n",
              "4  Per Month  "
            ]
          },
          "execution_count": 4,
          "metadata": {},
          "output_type": "execute_result"
        }
      ],
      "source": [
        "df_aparts.head(5)"
      ]
    },
    {
      "cell_type": "code",
      "execution_count": 5,
      "metadata": {},
      "outputs": [
        {
          "data": {
            "text/html": [
              "<div>\n",
              "<style scoped>\n",
              "    .dataframe tbody tr th:only-of-type {\n",
              "        vertical-align: middle;\n",
              "    }\n",
              "\n",
              "    .dataframe tbody tr th {\n",
              "        vertical-align: top;\n",
              "    }\n",
              "\n",
              "    .dataframe thead th {\n",
              "        text-align: right;\n",
              "    }\n",
              "</style>\n",
              "<table border=\"1\" class=\"dataframe\">\n",
              "  <thead>\n",
              "    <tr style=\"text-align: right;\">\n",
              "      <th></th>\n",
              "      <th>Agency</th>\n",
              "      <th>Neighborhood</th>\n",
              "      <th>Price</th>\n",
              "      <th>link</th>\n",
              "      <th>sq_mtrs</th>\n",
              "      <th>Bedrooms</th>\n",
              "      <th>Bathrooms</th>\n",
              "    </tr>\n",
              "  </thead>\n",
              "  <tbody>\n",
              "    <tr>\n",
              "      <th>0</th>\n",
              "      <td>Buy Rent Shelters</td>\n",
              "      <td>General Mathenge, Westlands</td>\n",
              "      <td>KSh 155,000</td>\n",
              "      <td>/listings/4-bedroom-apartment-for-rent-general...</td>\n",
              "      <td>4.0</td>\n",
              "      <td>4.0</td>\n",
              "      <td>4.0</td>\n",
              "    </tr>\n",
              "    <tr>\n",
              "      <th>1</th>\n",
              "      <td>Kenya Classic Homes</td>\n",
              "      <td>Kilimani, Dagoretti North</td>\n",
              "      <td>KSh 100,000</td>\n",
              "      <td>/listings/3-bedroom-apartment-for-rent-kiliman...</td>\n",
              "      <td>300.0</td>\n",
              "      <td>3.0</td>\n",
              "      <td>4.0</td>\n",
              "    </tr>\n",
              "    <tr>\n",
              "      <th>2</th>\n",
              "      <td>Absolute Estate Agents</td>\n",
              "      <td>Hatheru Rd,, Lavington, Dagoretti North</td>\n",
              "      <td>KSh 75,000</td>\n",
              "      <td>/listings/3-bedroom-apartment-for-rent-lavingt...</td>\n",
              "      <td>3.0</td>\n",
              "      <td>3.0</td>\n",
              "      <td>5.0</td>\n",
              "    </tr>\n",
              "    <tr>\n",
              "      <th>3</th>\n",
              "      <td>A1 Properties Limited</td>\n",
              "      <td>Kilimani, Dagoretti North</td>\n",
              "      <td>KSh 135,000</td>\n",
              "      <td>/listings/3-bedroom-apartment-for-rent-kiliman...</td>\n",
              "      <td>227.0</td>\n",
              "      <td>3.0</td>\n",
              "      <td>4.0</td>\n",
              "    </tr>\n",
              "    <tr>\n",
              "      <th>4</th>\n",
              "      <td>Pmc Estates Limited</td>\n",
              "      <td>Imara Daima, Embakasi</td>\n",
              "      <td>KSh 50,000</td>\n",
              "      <td>/listings/3-bedroom-apartment-for-rent-imara-d...</td>\n",
              "      <td>3.0</td>\n",
              "      <td>3.0</td>\n",
              "      <td>NaN</td>\n",
              "    </tr>\n",
              "  </tbody>\n",
              "</table>\n",
              "</div>"
            ],
            "text/plain": [
              "                   Agency                             Neighborhood   \n",
              "0       Buy Rent Shelters              General Mathenge, Westlands  \\\n",
              "1     Kenya Classic Homes                Kilimani, Dagoretti North   \n",
              "2  Absolute Estate Agents  Hatheru Rd,, Lavington, Dagoretti North   \n",
              "3   A1 Properties Limited                Kilimani, Dagoretti North   \n",
              "4     Pmc Estates Limited                    Imara Daima, Embakasi   \n",
              "\n",
              "         Price                                               link  sq_mtrs   \n",
              "0  KSh 155,000  /listings/4-bedroom-apartment-for-rent-general...      4.0  \\\n",
              "1  KSh 100,000  /listings/3-bedroom-apartment-for-rent-kiliman...    300.0   \n",
              "2   KSh 75,000  /listings/3-bedroom-apartment-for-rent-lavingt...      3.0   \n",
              "3  KSh 135,000  /listings/3-bedroom-apartment-for-rent-kiliman...    227.0   \n",
              "4   KSh 50,000  /listings/3-bedroom-apartment-for-rent-imara-d...      3.0   \n",
              "\n",
              "   Bedrooms  Bathrooms  \n",
              "0       4.0        4.0  \n",
              "1       3.0        4.0  \n",
              "2       3.0        5.0  \n",
              "3       3.0        4.0  \n",
              "4       3.0        NaN  "
            ]
          },
          "execution_count": 5,
          "metadata": {},
          "output_type": "execute_result"
        }
      ],
      "source": [
        "df_rentapts.head(5)"
      ]
    },
    {
      "cell_type": "markdown",
      "metadata": {
        "id": "fKUuuZeH7mr6"
      },
      "source": [
        "Exploring the dataset"
      ]
    },
    {
      "cell_type": "code",
      "execution_count": 6,
      "metadata": {
        "id": "uyUrE4yc-UFS"
      },
      "outputs": [
        {
          "data": {
            "text/plain": [
              "(2520, 7)"
            ]
          },
          "execution_count": 6,
          "metadata": {},
          "output_type": "execute_result"
        }
      ],
      "source": [
        "#Shape of the datasets, rows and columns respectively.\n",
        "df_aparts.shape"
      ]
    },
    {
      "cell_type": "code",
      "execution_count": 7,
      "metadata": {},
      "outputs": [
        {
          "data": {
            "text/plain": [
              "(1848, 7)"
            ]
          },
          "execution_count": 7,
          "metadata": {},
          "output_type": "execute_result"
        }
      ],
      "source": [
        "df_rentapts.shape"
      ]
    },
    {
      "cell_type": "code",
      "execution_count": 8,
      "metadata": {
        "id": "b2iYY2W-7pa0"
      },
      "outputs": [
        {
          "name": "stdout",
          "output_type": "stream",
          "text": [
            "<class 'pandas.core.frame.DataFrame'>\n",
            "RangeIndex: 2520 entries, 0 to 2519\n",
            "Data columns (total 7 columns):\n",
            " #   Column      Non-Null Count  Dtype \n",
            "---  ------      --------------  ----- \n",
            " 0   Unnamed: 0  2520 non-null   int64 \n",
            " 1   title       2520 non-null   object\n",
            " 2   location    2144 non-null   object\n",
            " 3   bedrooms    2520 non-null   int64 \n",
            " 4   bathrooms   2520 non-null   int64 \n",
            " 5   price       2520 non-null   object\n",
            " 6   rate        2520 non-null   object\n",
            "dtypes: int64(3), object(4)\n",
            "memory usage: 137.9+ KB\n"
          ]
        }
      ],
      "source": [
        "df_aparts.info()"
      ]
    },
    {
      "cell_type": "code",
      "execution_count": 9,
      "metadata": {},
      "outputs": [
        {
          "name": "stdout",
          "output_type": "stream",
          "text": [
            "<class 'pandas.core.frame.DataFrame'>\n",
            "RangeIndex: 1848 entries, 0 to 1847\n",
            "Data columns (total 7 columns):\n",
            " #   Column        Non-Null Count  Dtype  \n",
            "---  ------        --------------  -----  \n",
            " 0   Agency        1848 non-null   object \n",
            " 1   Neighborhood  1848 non-null   object \n",
            " 2   Price         1848 non-null   object \n",
            " 3   link          1848 non-null   object \n",
            " 4   sq_mtrs       1846 non-null   float64\n",
            " 5   Bedrooms      1845 non-null   float64\n",
            " 6   Bathrooms     1557 non-null   float64\n",
            "dtypes: float64(3), object(4)\n",
            "memory usage: 101.2+ KB\n"
          ]
        }
      ],
      "source": [
        "df_rentapts.info()"
      ]
    },
    {
      "cell_type": "code",
      "execution_count": 10,
      "metadata": {},
      "outputs": [
        {
          "data": {
            "text/plain": [
              "Unnamed: 0      0\n",
              "title           0\n",
              "location      376\n",
              "bedrooms        0\n",
              "bathrooms       0\n",
              "price           0\n",
              "rate            0\n",
              "dtype: int64"
            ]
          },
          "execution_count": 10,
          "metadata": {},
          "output_type": "execute_result"
        }
      ],
      "source": [
        "df_aparts.columns\n",
        "df_aparts.isnull().sum()"
      ]
    },
    {
      "cell_type": "code",
      "execution_count": 11,
      "metadata": {},
      "outputs": [
        {
          "data": {
            "text/plain": [
              "Agency            0\n",
              "Neighborhood      0\n",
              "Price             0\n",
              "link              0\n",
              "sq_mtrs           2\n",
              "Bedrooms          3\n",
              "Bathrooms       291\n",
              "dtype: int64"
            ]
          },
          "execution_count": 11,
          "metadata": {},
          "output_type": "execute_result"
        }
      ],
      "source": [
        "df_rentapts.columns\n",
        "df_rentapts.isnull().sum()"
      ]
    },
    {
      "cell_type": "code",
      "execution_count": 12,
      "metadata": {},
      "outputs": [
        {
          "data": {
            "text/html": [
              "<div>\n",
              "<style scoped>\n",
              "    .dataframe tbody tr th:only-of-type {\n",
              "        vertical-align: middle;\n",
              "    }\n",
              "\n",
              "    .dataframe tbody tr th {\n",
              "        vertical-align: top;\n",
              "    }\n",
              "\n",
              "    .dataframe thead th {\n",
              "        text-align: right;\n",
              "    }\n",
              "</style>\n",
              "<table border=\"1\" class=\"dataframe\">\n",
              "  <thead>\n",
              "    <tr style=\"text-align: right;\">\n",
              "      <th></th>\n",
              "      <th>count</th>\n",
              "      <th>mean</th>\n",
              "      <th>std</th>\n",
              "      <th>min</th>\n",
              "      <th>25%</th>\n",
              "      <th>50%</th>\n",
              "      <th>75%</th>\n",
              "      <th>max</th>\n",
              "    </tr>\n",
              "  </thead>\n",
              "  <tbody>\n",
              "    <tr>\n",
              "      <th>sq_mtrs</th>\n",
              "      <td>1846.0</td>\n",
              "      <td>327.226977</td>\n",
              "      <td>2048.784581</td>\n",
              "      <td>0.0</td>\n",
              "      <td>2.0</td>\n",
              "      <td>3.0</td>\n",
              "      <td>4.0</td>\n",
              "      <td>40470.0</td>\n",
              "    </tr>\n",
              "    <tr>\n",
              "      <th>Bedrooms</th>\n",
              "      <td>1845.0</td>\n",
              "      <td>2.577778</td>\n",
              "      <td>0.819399</td>\n",
              "      <td>0.0</td>\n",
              "      <td>2.0</td>\n",
              "      <td>3.0</td>\n",
              "      <td>3.0</td>\n",
              "      <td>6.0</td>\n",
              "    </tr>\n",
              "    <tr>\n",
              "      <th>Bathrooms</th>\n",
              "      <td>1557.0</td>\n",
              "      <td>2.595376</td>\n",
              "      <td>1.000349</td>\n",
              "      <td>1.0</td>\n",
              "      <td>2.0</td>\n",
              "      <td>2.0</td>\n",
              "      <td>3.0</td>\n",
              "      <td>6.0</td>\n",
              "    </tr>\n",
              "  </tbody>\n",
              "</table>\n",
              "</div>"
            ],
            "text/plain": [
              "            count        mean          std  min  25%  50%  75%      max\n",
              "sq_mtrs    1846.0  327.226977  2048.784581  0.0  2.0  3.0  4.0  40470.0\n",
              "Bedrooms   1845.0    2.577778     0.819399  0.0  2.0  3.0  3.0      6.0\n",
              "Bathrooms  1557.0    2.595376     1.000349  1.0  2.0  2.0  3.0      6.0"
            ]
          },
          "execution_count": 12,
          "metadata": {},
          "output_type": "execute_result"
        }
      ],
      "source": [
        "#describe the data\n",
        "df_rentapts.describe().T"
      ]
    },
    {
      "cell_type": "code",
      "execution_count": 13,
      "metadata": {},
      "outputs": [
        {
          "data": {
            "text/html": [
              "<div>\n",
              "<style scoped>\n",
              "    .dataframe tbody tr th:only-of-type {\n",
              "        vertical-align: middle;\n",
              "    }\n",
              "\n",
              "    .dataframe tbody tr th {\n",
              "        vertical-align: top;\n",
              "    }\n",
              "\n",
              "    .dataframe thead th {\n",
              "        text-align: right;\n",
              "    }\n",
              "</style>\n",
              "<table border=\"1\" class=\"dataframe\">\n",
              "  <thead>\n",
              "    <tr style=\"text-align: right;\">\n",
              "      <th></th>\n",
              "      <th>count</th>\n",
              "      <th>mean</th>\n",
              "      <th>std</th>\n",
              "      <th>min</th>\n",
              "      <th>25%</th>\n",
              "      <th>50%</th>\n",
              "      <th>75%</th>\n",
              "      <th>max</th>\n",
              "    </tr>\n",
              "  </thead>\n",
              "  <tbody>\n",
              "    <tr>\n",
              "      <th>Unnamed: 0</th>\n",
              "      <td>2520.0</td>\n",
              "      <td>1259.500000</td>\n",
              "      <td>727.605662</td>\n",
              "      <td>0.0</td>\n",
              "      <td>629.75</td>\n",
              "      <td>1259.5</td>\n",
              "      <td>1889.25</td>\n",
              "      <td>2519.0</td>\n",
              "    </tr>\n",
              "    <tr>\n",
              "      <th>bedrooms</th>\n",
              "      <td>2520.0</td>\n",
              "      <td>2.551190</td>\n",
              "      <td>0.922868</td>\n",
              "      <td>1.0</td>\n",
              "      <td>2.00</td>\n",
              "      <td>3.0</td>\n",
              "      <td>3.00</td>\n",
              "      <td>4.0</td>\n",
              "    </tr>\n",
              "    <tr>\n",
              "      <th>bathrooms</th>\n",
              "      <td>2520.0</td>\n",
              "      <td>2.450794</td>\n",
              "      <td>0.976480</td>\n",
              "      <td>1.0</td>\n",
              "      <td>2.00</td>\n",
              "      <td>2.0</td>\n",
              "      <td>3.00</td>\n",
              "      <td>5.0</td>\n",
              "    </tr>\n",
              "  </tbody>\n",
              "</table>\n",
              "</div>"
            ],
            "text/plain": [
              "             count         mean         std  min     25%     50%      75%   \n",
              "Unnamed: 0  2520.0  1259.500000  727.605662  0.0  629.75  1259.5  1889.25  \\\n",
              "bedrooms    2520.0     2.551190    0.922868  1.0    2.00     3.0     3.00   \n",
              "bathrooms   2520.0     2.450794    0.976480  1.0    2.00     2.0     3.00   \n",
              "\n",
              "               max  \n",
              "Unnamed: 0  2519.0  \n",
              "bedrooms       4.0  \n",
              "bathrooms      5.0  "
            ]
          },
          "execution_count": 13,
          "metadata": {},
          "output_type": "execute_result"
        }
      ],
      "source": [
        "#describe the data\n",
        "df_aparts.describe().T"
      ]
    },
    {
      "cell_type": "markdown",
      "metadata": {
        "id": "0AR-MGpBGd5v"
      },
      "source": [
        "# Data cleaning and wrangling"
      ]
    },
    {
      "cell_type": "markdown",
      "metadata": {},
      "source": [
        "df_aparts"
      ]
    },
    {
      "cell_type": "code",
      "execution_count": 14,
      "metadata": {},
      "outputs": [
        {
          "data": {
            "text/plain": [
              "Index(['title', 'location', 'bedrooms', 'bathrooms', 'price', 'rate'], dtype='object')"
            ]
          },
          "execution_count": 14,
          "metadata": {},
          "output_type": "execute_result"
        }
      ],
      "source": [
        "#drop the first column (Unnamed: 0) \n",
        "df_aparts.drop('Unnamed: 0', axis=1, inplace=True)\n",
        "df_aparts.columns"
      ]
    },
    {
      "cell_type": "code",
      "execution_count": 15,
      "metadata": {},
      "outputs": [
        {
          "name": "stdout",
          "output_type": "stream",
          "text": [
            "0      3 Bedroom Apartment / Flat to rent in Riverside\n",
            "1     3 Bedroom Apartment / Flat to rent in Kileleshwa\n",
            "2          3 Bedroom Apartment / Flat to rent in Nyali\n",
            "3      3 Bedroom Apartment / Flat to rent in Lavington\n",
            "4     1 Bedroom Apartment / Flat to rent in Kileleshwa\n",
            "5    4 Bedroom Apartment / Flat to rent in Kahawa W...\n",
            "6       2 Bedroom Apartment / Flat to rent in Kilimani\n",
            "7      3 Bedroom Apartment / Flat to rent in Westlands\n",
            "8          1 Bedroom Apartment / Flat to rent in Nyali\n",
            "9       4 Bedroom Apartment / Flat to rent in Muthaiga\n",
            "Name: title, dtype: object\n"
          ]
        }
      ],
      "source": [
        "print(df_aparts['title'].head(10))"
      ]
    },
    {
      "cell_type": "code",
      "execution_count": 16,
      "metadata": {
        "id": "gcHGKbBOrEnZ"
      },
      "outputs": [
        {
          "name": "stdout",
          "output_type": "stream",
          "text": [
            "0           Riverside\n",
            "1          Kileleshwa\n",
            "2               Nyali\n",
            "3           Lavington\n",
            "4          Kileleshwa\n",
            "            ...      \n",
            "2515         Kilimani\n",
            "2516            Nyali\n",
            "2517    Spring Valley\n",
            "2518         Muthaiga\n",
            "2519        Westlands\n",
            "Name: title, Length: 2520, dtype: object\n",
            "Number of unique values: 12\n"
          ]
        }
      ],
      "source": [
        "import re\n",
        "# Cleaning the location\n",
        "df_aparts['title'] = df_aparts['title'].apply(lambda x: re.sub(r'^\\d+ Bedroom Apartment / Flat to rent in ', '', x))\n",
        "print(df_aparts['title'])\n",
        "print('Number of unique values:', df_aparts['title'].nunique())"
      ]
    },
    {
      "cell_type": "code",
      "execution_count": 17,
      "metadata": {},
      "outputs": [
        {
          "name": "stdout",
          "output_type": "stream",
          "text": [
            "Number of None values:  0\n"
          ]
        }
      ],
      "source": [
        "df_aparts = df_aparts.drop('location', axis=1)\n",
        "df_aparts.isnull().sum()\n",
        "num_none_values = df_aparts.isnull().sum().sum()\n",
        "print(\"Number of None values: \", num_none_values)"
      ]
    },
    {
      "cell_type": "code",
      "execution_count": 18,
      "metadata": {},
      "outputs": [
        {
          "data": {
            "text/plain": [
              "Index(['Town', 'Bedrooms', 'Bathrooms', 'Price', 'rate'], dtype='object')"
            ]
          },
          "execution_count": 18,
          "metadata": {},
          "output_type": "execute_result"
        }
      ],
      "source": [
        "#Renaming the columns\n",
        "df_aparts.rename(columns={'title': 'Town'}, inplace=True)\n",
        "df_aparts.rename(columns={'bedrooms': 'Bedrooms'}, inplace=True)\n",
        "df_aparts.rename(columns={'bathrooms': 'Bathrooms'}, inplace=True)\n",
        "df_aparts.rename(columns={'price': 'Price'}, inplace=True)\n",
        "df_aparts.columns"
      ]
    },
    {
      "cell_type": "code",
      "execution_count": 19,
      "metadata": {},
      "outputs": [
        {
          "name": "stdout",
          "output_type": "stream",
          "text": [
            "           rate     Price\n",
            "0     Per Month   200 000\n",
            "1     Per Month    70 000\n",
            "2     Per Month    38 000\n",
            "3     Per Month    80 000\n",
            "4     Per Month   110 000\n",
            "...         ...       ...\n",
            "2515  Per Month    75 000\n",
            "2516  Per Month    45 000\n",
            "2517  Per Month    65 000\n",
            "2518  Per Month   300 000\n",
            "2519  Per Month   100 000\n",
            "\n",
            "[2520 rows x 2 columns]\n"
          ]
        }
      ],
      "source": [
        "print(df_aparts[['rate', 'Price']])"
      ]
    },
    {
      "cell_type": "code",
      "execution_count": 20,
      "metadata": {},
      "outputs": [
        {
          "name": "stdout",
          "output_type": "stream",
          "text": [
            "           rate   Price\n",
            "0     Per Month  200000\n",
            "1     Per Month   70000\n",
            "2     Per Month   38000\n",
            "3     Per Month   80000\n",
            "4     Per Month  110000\n",
            "...         ...     ...\n",
            "2515  Per Month   75000\n",
            "2516  Per Month   45000\n",
            "2517  Per Month   65000\n",
            "2518  Per Month  300000\n",
            "2519  Per Month  100000\n",
            "\n",
            "[2520 rows x 2 columns]\n"
          ]
        }
      ],
      "source": [
        "# Remove non-numeric characters and whitespace from the \"Price\" column\n",
        "df_aparts['Price'] = df_aparts['Price'].str.replace('[^\\d]+', '', regex=True)\n",
        "# Convert the column to integers\n",
        "df_aparts['Price'] = pd.to_numeric(df_aparts['Price'], errors='coerce').astype('Int64')\n",
        "# Print the rate and Price columns to check the output\n",
        "print(df_aparts[['rate', 'Price']])"
      ]
    },
    {
      "cell_type": "code",
      "execution_count": 21,
      "metadata": {},
      "outputs": [
        {
          "name": "stdout",
          "output_type": "stream",
          "text": [
            "           rate   Price\n",
            "0     Per Month  200000\n",
            "1     Per Month   70000\n",
            "2     Per Month   38000\n",
            "3     Per Month   80000\n",
            "4     Per Month  110000\n",
            "...         ...     ...\n",
            "2515  Per Month   75000\n",
            "2516  Per Month   45000\n",
            "2517  Per Month   65000\n",
            "2518  Per Month  300000\n",
            "2519  Per Month  100000\n",
            "\n",
            "[2520 rows x 2 columns]\n"
          ]
        }
      ],
      "source": [
        "# Drop rows with NaN values in the \"Price\" column\n",
        "df_aparts.dropna(subset=['Price'], inplace=True)\n",
        "# Print the rate and Price columns to check the output\n",
        "print(df_aparts[['rate', 'Price']])"
      ]
    },
    {
      "cell_type": "code",
      "execution_count": 22,
      "metadata": {},
      "outputs": [
        {
          "name": "stdout",
          "output_type": "stream",
          "text": [
            "['Per Month' 'Per Day']\n"
          ]
        }
      ],
      "source": [
        "# Print the unique values for is called \"Rate\"\n",
        "print(df_aparts['rate'].unique())"
      ]
    },
    {
      "cell_type": "code",
      "execution_count": 23,
      "metadata": {},
      "outputs": [
        {
          "name": "stdout",
          "output_type": "stream",
          "text": [
            "For Months:  2395\n",
            "For Days:  125\n"
          ]
        }
      ],
      "source": [
        "np_days = len(df_aparts[df_aparts['rate'] == 'Per Month'])\n",
        "print(\"For Months: \", np_days)\n",
        "np_months = len(df_aparts[df_aparts['rate'] == 'Per Day'])\n",
        "print(\"For Days: \", np_months)"
      ]
    },
    {
      "cell_type": "code",
      "execution_count": 24,
      "metadata": {},
      "outputs": [
        {
          "name": "stdout",
          "output_type": "stream",
          "text": [
            "There is a huge gap between the prices for 'per day' and 'per month' rates.\n"
          ]
        },
        {
          "name": "stderr",
          "output_type": "stream",
          "text": [
            "C:\\Users\\Kagaba\\AppData\\Local\\Temp\\ipykernel_29716\\2417081231.py:12: RuntimeWarning: divide by zero encountered in scalar divide\n",
            "  ratio = price_range_month / price_range_day\n"
          ]
        }
      ],
      "source": [
        "# convert prices to per month\n",
        "df_aparts.loc[df_aparts['rate'] == 'Per Day', 'Price'] *= 30\n",
        "df_aparts.loc[df_aparts['rate'] == 'Per Hour', 'Price'] *= 30 * 24\n",
        "\n",
        "# calculate difference between maximum and minimum prices for 'per month' rate\n",
        "price_range_month = df_aparts.loc[df_aparts['rate'] == 'Per Month', 'Price'].max() - df_aparts.loc[df_aparts['rate'] == 'Per Month', 'Price'].min()\n",
        "\n",
        "# calculate difference between maximum and minimum prices for 'per day' rate\n",
        "price_range_day = df_aparts.loc[df_aparts['rate'] == 'Per Day', 'Price'].max() - df_aparts.loc[df_aparts['rate'] == 'Per Day', 'Price'].min()\n",
        "\n",
        "# calculate ratio of price_range_month to price_range_day\n",
        "ratio = price_range_month / price_range_day\n",
        "\n",
        "# print the result\n",
        "if ratio > 10:\n",
        "    print(\"There is a huge gap between the prices for 'per day' and 'per month' rates.\")\n",
        "else:\n",
        "    print(\"There is not a huge gap between the prices for 'per day' and 'per month' rates.\")"
      ]
    },
    {
      "cell_type": "code",
      "execution_count": 25,
      "metadata": {},
      "outputs": [
        {
          "name": "stdout",
          "output_type": "stream",
          "text": [
            "Town         object\n",
            "Bedrooms      int32\n",
            "Bathrooms     int32\n",
            "Price         int32\n",
            "rate         object\n",
            "dtype: object\n"
          ]
        }
      ],
      "source": [
        "df_aparts['Bedrooms'] = df_aparts['Bedrooms'].astype(int)\n",
        "df_aparts['Bathrooms'] = df_aparts['Bathrooms'].astype(int)\n",
        "df_aparts['Price'] = df_aparts['Price'].astype(int)\n",
        "print(df_aparts.dtypes)"
      ]
    },
    {
      "cell_type": "code",
      "execution_count": 26,
      "metadata": {
        "id": "YfE7dVyutVtx"
      },
      "outputs": [
        {
          "data": {
            "text/plain": [
              "Town         0\n",
              "Bedrooms     0\n",
              "Bathrooms    0\n",
              "Price        0\n",
              "rate         0\n",
              "dtype: int64"
            ]
          },
          "execution_count": 26,
          "metadata": {},
          "output_type": "execute_result"
        }
      ],
      "source": [
        "#check for missing values\n",
        "df_aparts.isnull().sum()"
      ]
    },
    {
      "cell_type": "markdown",
      "metadata": {},
      "source": [
        "df_rentapts "
      ]
    },
    {
      "cell_type": "code",
      "execution_count": 27,
      "metadata": {},
      "outputs": [
        {
          "data": {
            "text/plain": [
              "0        155000\n",
              "1        100000\n",
              "2         75000\n",
              "3        135000\n",
              "4         50000\n",
              "         ...   \n",
              "1843     180000\n",
              "1844     180000\n",
              "1845     180000\n",
              "1846     180000\n",
              "1847     180000\n",
              "Name: Price, Length: 1848, dtype: object"
            ]
          },
          "execution_count": 27,
          "metadata": {},
          "output_type": "execute_result"
        }
      ],
      "source": [
        "#the price column is an object type, we shall convert it to float\n",
        "#first we shall remove the KSh sign and the comma (KSh 50,000)\n",
        "df_rentapts['Price'].str.replace('KSh','',regex=True).str.replace(',','')"
      ]
    },
    {
      "cell_type": "code",
      "execution_count": 28,
      "metadata": {},
      "outputs": [],
      "source": [
        "df_rentapts['Price'] = df_rentapts['Price'].str.replace('KSh','',regex=True).str.replace(',','').astype(float)"
      ]
    },
    {
      "cell_type": "code",
      "execution_count": 29,
      "metadata": {},
      "outputs": [
        {
          "name": "stdout",
          "output_type": "stream",
          "text": [
            "<class 'pandas.core.frame.DataFrame'>\n",
            "RangeIndex: 1848 entries, 0 to 1847\n",
            "Data columns (total 7 columns):\n",
            " #   Column        Non-Null Count  Dtype  \n",
            "---  ------        --------------  -----  \n",
            " 0   Agency        1848 non-null   object \n",
            " 1   Neighborhood  1848 non-null   object \n",
            " 2   Price         1848 non-null   float64\n",
            " 3   link          1848 non-null   object \n",
            " 4   sq_mtrs       1846 non-null   float64\n",
            " 5   Bedrooms      1845 non-null   float64\n",
            " 6   Bathrooms     1557 non-null   float64\n",
            "dtypes: float64(4), object(3)\n",
            "memory usage: 101.2+ KB\n"
          ]
        }
      ],
      "source": [
        "df_rentapts.info()"
      ]
    },
    {
      "cell_type": "code",
      "execution_count": 30,
      "metadata": {},
      "outputs": [
        {
          "data": {
            "text/html": [
              "<div>\n",
              "<style scoped>\n",
              "    .dataframe tbody tr th:only-of-type {\n",
              "        vertical-align: middle;\n",
              "    }\n",
              "\n",
              "    .dataframe tbody tr th {\n",
              "        vertical-align: top;\n",
              "    }\n",
              "\n",
              "    .dataframe thead th {\n",
              "        text-align: right;\n",
              "    }\n",
              "</style>\n",
              "<table border=\"1\" class=\"dataframe\">\n",
              "  <thead>\n",
              "    <tr style=\"text-align: right;\">\n",
              "      <th></th>\n",
              "      <th>count</th>\n",
              "      <th>mean</th>\n",
              "      <th>std</th>\n",
              "      <th>min</th>\n",
              "      <th>25%</th>\n",
              "      <th>50%</th>\n",
              "      <th>75%</th>\n",
              "      <th>max</th>\n",
              "    </tr>\n",
              "  </thead>\n",
              "  <tbody>\n",
              "    <tr>\n",
              "      <th>Price</th>\n",
              "      <td>1848.0</td>\n",
              "      <td>97343.881494</td>\n",
              "      <td>40241.322051</td>\n",
              "      <td>12000.0</td>\n",
              "      <td>70000.0</td>\n",
              "      <td>95000.0</td>\n",
              "      <td>130000.0</td>\n",
              "      <td>280000.0</td>\n",
              "    </tr>\n",
              "    <tr>\n",
              "      <th>sq_mtrs</th>\n",
              "      <td>1846.0</td>\n",
              "      <td>327.226977</td>\n",
              "      <td>2048.784581</td>\n",
              "      <td>0.0</td>\n",
              "      <td>2.0</td>\n",
              "      <td>3.0</td>\n",
              "      <td>4.0</td>\n",
              "      <td>40470.0</td>\n",
              "    </tr>\n",
              "    <tr>\n",
              "      <th>Bedrooms</th>\n",
              "      <td>1845.0</td>\n",
              "      <td>2.577778</td>\n",
              "      <td>0.819399</td>\n",
              "      <td>0.0</td>\n",
              "      <td>2.0</td>\n",
              "      <td>3.0</td>\n",
              "      <td>3.0</td>\n",
              "      <td>6.0</td>\n",
              "    </tr>\n",
              "    <tr>\n",
              "      <th>Bathrooms</th>\n",
              "      <td>1557.0</td>\n",
              "      <td>2.595376</td>\n",
              "      <td>1.000349</td>\n",
              "      <td>1.0</td>\n",
              "      <td>2.0</td>\n",
              "      <td>2.0</td>\n",
              "      <td>3.0</td>\n",
              "      <td>6.0</td>\n",
              "    </tr>\n",
              "  </tbody>\n",
              "</table>\n",
              "</div>"
            ],
            "text/plain": [
              "            count          mean           std      min      25%      50%   \n",
              "Price      1848.0  97343.881494  40241.322051  12000.0  70000.0  95000.0  \\\n",
              "sq_mtrs    1846.0    327.226977   2048.784581      0.0      2.0      3.0   \n",
              "Bedrooms   1845.0      2.577778      0.819399      0.0      2.0      3.0   \n",
              "Bathrooms  1557.0      2.595376      1.000349      1.0      2.0      2.0   \n",
              "\n",
              "                75%       max  \n",
              "Price      130000.0  280000.0  \n",
              "sq_mtrs         4.0   40470.0  \n",
              "Bedrooms        3.0       6.0  \n",
              "Bathrooms       3.0       6.0  "
            ]
          },
          "execution_count": 30,
          "metadata": {},
          "output_type": "execute_result"
        }
      ],
      "source": [
        "#Check for null values\n",
        "df_rentapts.describe().T"
      ]
    },
    {
      "cell_type": "code",
      "execution_count": 31,
      "metadata": {},
      "outputs": [
        {
          "data": {
            "text/plain": [
              "<Axes: >"
            ]
          },
          "execution_count": 31,
          "metadata": {},
          "output_type": "execute_result"
        },
        {
          "data": {
            "image/png": "[encoded data removed]",
            "text/plain": [
              "<Figure size 640x480 with 1 Axes>"
            ]
          },
          "metadata": {},
          "output_type": "display_data"
        }
      ],
      "source": [
        "sns.heatmap(df_rentapts.isnull(),yticklabels=False,cbar=False,cmap='viridis')"
      ]
    },
    {
      "cell_type": "code",
      "execution_count": 32,
      "metadata": {},
      "outputs": [
        {
          "data": {
            "text/html": [
              "<div>\n",
              "<style scoped>\n",
              "    .dataframe tbody tr th:only-of-type {\n",
              "        vertical-align: middle;\n",
              "    }\n",
              "\n",
              "    .dataframe tbody tr th {\n",
              "        vertical-align: top;\n",
              "    }\n",
              "\n",
              "    .dataframe thead th {\n",
              "        text-align: right;\n",
              "    }\n",
              "</style>\n",
              "<table border=\"1\" class=\"dataframe\">\n",
              "  <thead>\n",
              "    <tr style=\"text-align: right;\">\n",
              "      <th></th>\n",
              "      <th>Agency</th>\n",
              "      <th>Neighborhood</th>\n",
              "      <th>Price</th>\n",
              "      <th>link</th>\n",
              "      <th>sq_mtrs</th>\n",
              "      <th>Bedrooms</th>\n",
              "      <th>Bathrooms</th>\n",
              "    </tr>\n",
              "  </thead>\n",
              "  <tbody>\n",
              "    <tr>\n",
              "      <th>0</th>\n",
              "      <td>Buy Rent Shelters</td>\n",
              "      <td>General Mathenge, Westlands</td>\n",
              "      <td>155000.0</td>\n",
              "      <td>/listings/4-bedroom-apartment-for-rent-general...</td>\n",
              "      <td>4.0</td>\n",
              "      <td>4.0</td>\n",
              "      <td>4.0</td>\n",
              "    </tr>\n",
              "    <tr>\n",
              "      <th>1</th>\n",
              "      <td>Kenya Classic Homes</td>\n",
              "      <td>Kilimani, Dagoretti North</td>\n",
              "      <td>100000.0</td>\n",
              "      <td>/listings/3-bedroom-apartment-for-rent-kiliman...</td>\n",
              "      <td>300.0</td>\n",
              "      <td>3.0</td>\n",
              "      <td>4.0</td>\n",
              "    </tr>\n",
              "    <tr>\n",
              "      <th>2</th>\n",
              "      <td>Absolute Estate Agents</td>\n",
              "      <td>Hatheru Rd,, Lavington, Dagoretti North</td>\n",
              "      <td>75000.0</td>\n",
              "      <td>/listings/3-bedroom-apartment-for-rent-lavingt...</td>\n",
              "      <td>3.0</td>\n",
              "      <td>3.0</td>\n",
              "      <td>5.0</td>\n",
              "    </tr>\n",
              "    <tr>\n",
              "      <th>3</th>\n",
              "      <td>A1 Properties Limited</td>\n",
              "      <td>Kilimani, Dagoretti North</td>\n",
              "      <td>135000.0</td>\n",
              "      <td>/listings/3-bedroom-apartment-for-rent-kiliman...</td>\n",
              "      <td>227.0</td>\n",
              "      <td>3.0</td>\n",
              "      <td>4.0</td>\n",
              "    </tr>\n",
              "    <tr>\n",
              "      <th>4</th>\n",
              "      <td>Pmc Estates Limited</td>\n",
              "      <td>Imara Daima, Embakasi</td>\n",
              "      <td>50000.0</td>\n",
              "      <td>/listings/3-bedroom-apartment-for-rent-imara-d...</td>\n",
              "      <td>3.0</td>\n",
              "      <td>3.0</td>\n",
              "      <td>NaN</td>\n",
              "    </tr>\n",
              "  </tbody>\n",
              "</table>\n",
              "</div>"
            ],
            "text/plain": [
              "                   Agency                             Neighborhood     Price   \n",
              "0       Buy Rent Shelters              General Mathenge, Westlands  155000.0  \\\n",
              "1     Kenya Classic Homes                Kilimani, Dagoretti North  100000.0   \n",
              "2  Absolute Estate Agents  Hatheru Rd,, Lavington, Dagoretti North   75000.0   \n",
              "3   A1 Properties Limited                Kilimani, Dagoretti North  135000.0   \n",
              "4     Pmc Estates Limited                    Imara Daima, Embakasi   50000.0   \n",
              "\n",
              "                                                link  sq_mtrs  Bedrooms   \n",
              "0  /listings/4-bedroom-apartment-for-rent-general...      4.0       4.0  \\\n",
              "1  /listings/3-bedroom-apartment-for-rent-kiliman...    300.0       3.0   \n",
              "2  /listings/3-bedroom-apartment-for-rent-lavingt...      3.0       3.0   \n",
              "3  /listings/3-bedroom-apartment-for-rent-kiliman...    227.0       3.0   \n",
              "4  /listings/3-bedroom-apartment-for-rent-imara-d...      3.0       3.0   \n",
              "\n",
              "   Bathrooms  \n",
              "0        4.0  \n",
              "1        4.0  \n",
              "2        5.0  \n",
              "3        4.0  \n",
              "4        NaN  "
            ]
          },
          "execution_count": 32,
          "metadata": {},
          "output_type": "execute_result"
        }
      ],
      "source": [
        "df_rentapts.dropna(subset=['sq_mtrs','Bedrooms'],inplace=True)\n",
        "df_rentapts.head()"
      ]
    },
    {
      "cell_type": "code",
      "execution_count": 33,
      "metadata": {},
      "outputs": [
        {
          "data": {
            "text/html": [
              "<div>\n",
              "<style scoped>\n",
              "    .dataframe tbody tr th:only-of-type {\n",
              "        vertical-align: middle;\n",
              "    }\n",
              "\n",
              "    .dataframe tbody tr th {\n",
              "        vertical-align: top;\n",
              "    }\n",
              "\n",
              "    .dataframe thead th {\n",
              "        text-align: right;\n",
              "    }\n",
              "</style>\n",
              "<table border=\"1\" class=\"dataframe\">\n",
              "  <thead>\n",
              "    <tr style=\"text-align: right;\">\n",
              "      <th></th>\n",
              "      <th>Agency</th>\n",
              "      <th>Neighborhood</th>\n",
              "      <th>Price</th>\n",
              "      <th>link</th>\n",
              "      <th>sq_mtrs</th>\n",
              "      <th>Bedrooms</th>\n",
              "      <th>Bathrooms</th>\n",
              "    </tr>\n",
              "  </thead>\n",
              "  <tbody>\n",
              "    <tr>\n",
              "      <th>4</th>\n",
              "      <td>Pmc Estates Limited</td>\n",
              "      <td>Imara Daima, Embakasi</td>\n",
              "      <td>50000.0</td>\n",
              "      <td>/listings/3-bedroom-apartment-for-rent-imara-d...</td>\n",
              "      <td>3.0</td>\n",
              "      <td>3.0</td>\n",
              "      <td>NaN</td>\n",
              "    </tr>\n",
              "    <tr>\n",
              "      <th>5</th>\n",
              "      <td>Lizmor Properties</td>\n",
              "      <td>Waiyaki Way, Westlands</td>\n",
              "      <td>150000.0</td>\n",
              "      <td>/listings/furnished-2-bedroom-apartment-for-re...</td>\n",
              "      <td>2.0</td>\n",
              "      <td>2.0</td>\n",
              "      <td>NaN</td>\n",
              "    </tr>\n",
              "    <tr>\n",
              "      <th>8</th>\n",
              "      <td>Pmc Estates Limited</td>\n",
              "      <td>Thika Road, Thika Road</td>\n",
              "      <td>85000.0</td>\n",
              "      <td>/listings/4-bedroom-apartment-for-rent-thika-r...</td>\n",
              "      <td>4.0</td>\n",
              "      <td>4.0</td>\n",
              "      <td>NaN</td>\n",
              "    </tr>\n",
              "    <tr>\n",
              "      <th>19</th>\n",
              "      <td>Real Management Services 2002Limited</td>\n",
              "      <td>Sports Road, Waiyaki Way, Westlands</td>\n",
              "      <td>13000.0</td>\n",
              "      <td>/listings/studio-apartment-for-rent-waiyaki-wa...</td>\n",
              "      <td>0.0</td>\n",
              "      <td>0.0</td>\n",
              "      <td>NaN</td>\n",
              "    </tr>\n",
              "    <tr>\n",
              "      <th>36</th>\n",
              "      <td>Cfs Homes</td>\n",
              "      <td>Ruaka, Kiambaa</td>\n",
              "      <td>16000.0</td>\n",
              "      <td>/listings/1-bedroom-apartment-for-rent-ruaka-3...</td>\n",
              "      <td>1.0</td>\n",
              "      <td>1.0</td>\n",
              "      <td>NaN</td>\n",
              "    </tr>\n",
              "    <tr>\n",
              "      <th>...</th>\n",
              "      <td>...</td>\n",
              "      <td>...</td>\n",
              "      <td>...</td>\n",
              "      <td>...</td>\n",
              "      <td>...</td>\n",
              "      <td>...</td>\n",
              "      <td>...</td>\n",
              "    </tr>\n",
              "    <tr>\n",
              "      <th>1817</th>\n",
              "      <td>Capstone Properties</td>\n",
              "      <td>General Mathenge, Westlands</td>\n",
              "      <td>175000.0</td>\n",
              "      <td>/listings/3-bedroom-apartment-for-rent-general...</td>\n",
              "      <td>3.0</td>\n",
              "      <td>3.0</td>\n",
              "      <td>NaN</td>\n",
              "    </tr>\n",
              "    <tr>\n",
              "      <th>1820</th>\n",
              "      <td>Cloud Real Estate</td>\n",
              "      <td>General Mathenge, Westlands</td>\n",
              "      <td>175000.0</td>\n",
              "      <td>/listings/4-bedroom-apartment-for-rent-general...</td>\n",
              "      <td>4.0</td>\n",
              "      <td>4.0</td>\n",
              "      <td>NaN</td>\n",
              "    </tr>\n",
              "    <tr>\n",
              "      <th>1833</th>\n",
              "      <td>Rainbow Properties Limited</td>\n",
              "      <td>State House, Dagoretti North</td>\n",
              "      <td>180000.0</td>\n",
              "      <td>/listings/furnished-3-bedroom-apartment-for-re...</td>\n",
              "      <td>3.0</td>\n",
              "      <td>3.0</td>\n",
              "      <td>NaN</td>\n",
              "    </tr>\n",
              "    <tr>\n",
              "      <th>1843</th>\n",
              "      <td>Avic International</td>\n",
              "      <td>Laikipia Road, Kileleshwa, Dagoretti North</td>\n",
              "      <td>180000.0</td>\n",
              "      <td>/listings/3-bedroom-apartment-for-rent-kileles...</td>\n",
              "      <td>3.0</td>\n",
              "      <td>3.0</td>\n",
              "      <td>NaN</td>\n",
              "    </tr>\n",
              "    <tr>\n",
              "      <th>1847</th>\n",
              "      <td>Pmc Estates Limited</td>\n",
              "      <td>Kilimani, Dagoretti North</td>\n",
              "      <td>180000.0</td>\n",
              "      <td>/listings/2-bedroom-apartment-for-rent-kiliman...</td>\n",
              "      <td>2.0</td>\n",
              "      <td>2.0</td>\n",
              "      <td>NaN</td>\n",
              "    </tr>\n",
              "  </tbody>\n",
              "</table>\n",
              "<p>288 rows × 7 columns</p>\n",
              "</div>"
            ],
            "text/plain": [
              "                                    Agency   \n",
              "4                      Pmc Estates Limited  \\\n",
              "5                        Lizmor Properties   \n",
              "8                      Pmc Estates Limited   \n",
              "19    Real Management Services 2002Limited   \n",
              "36                               Cfs Homes   \n",
              "...                                    ...   \n",
              "1817                   Capstone Properties   \n",
              "1820                     Cloud Real Estate   \n",
              "1833            Rainbow Properties Limited   \n",
              "1843                    Avic International   \n",
              "1847                   Pmc Estates Limited   \n",
              "\n",
              "                                    Neighborhood     Price   \n",
              "4                          Imara Daima, Embakasi   50000.0  \\\n",
              "5                         Waiyaki Way, Westlands  150000.0   \n",
              "8                         Thika Road, Thika Road   85000.0   \n",
              "19           Sports Road, Waiyaki Way, Westlands   13000.0   \n",
              "36                                Ruaka, Kiambaa   16000.0   \n",
              "...                                          ...       ...   \n",
              "1817                 General Mathenge, Westlands  175000.0   \n",
              "1820                 General Mathenge, Westlands  175000.0   \n",
              "1833                State House, Dagoretti North  180000.0   \n",
              "1843  Laikipia Road, Kileleshwa, Dagoretti North  180000.0   \n",
              "1847                   Kilimani, Dagoretti North  180000.0   \n",
              "\n",
              "                                                   link  sq_mtrs  Bedrooms   \n",
              "4     /listings/3-bedroom-apartment-for-rent-imara-d...      3.0       3.0  \\\n",
              "5     /listings/furnished-2-bedroom-apartment-for-re...      2.0       2.0   \n",
              "8     /listings/4-bedroom-apartment-for-rent-thika-r...      4.0       4.0   \n",
              "19    /listings/studio-apartment-for-rent-waiyaki-wa...      0.0       0.0   \n",
              "36    /listings/1-bedroom-apartment-for-rent-ruaka-3...      1.0       1.0   \n",
              "...                                                 ...      ...       ...   \n",
              "1817  /listings/3-bedroom-apartment-for-rent-general...      3.0       3.0   \n",
              "1820  /listings/4-bedroom-apartment-for-rent-general...      4.0       4.0   \n",
              "1833  /listings/furnished-3-bedroom-apartment-for-re...      3.0       3.0   \n",
              "1843  /listings/3-bedroom-apartment-for-rent-kileles...      3.0       3.0   \n",
              "1847  /listings/2-bedroom-apartment-for-rent-kiliman...      2.0       2.0   \n",
              "\n",
              "      Bathrooms  \n",
              "4           NaN  \n",
              "5           NaN  \n",
              "8           NaN  \n",
              "19          NaN  \n",
              "36          NaN  \n",
              "...         ...  \n",
              "1817        NaN  \n",
              "1820        NaN  \n",
              "1833        NaN  \n",
              "1843        NaN  \n",
              "1847        NaN  \n",
              "\n",
              "[288 rows x 7 columns]"
            ]
          },
          "execution_count": 33,
          "metadata": {},
          "output_type": "execute_result"
        }
      ],
      "source": [
        "#check for houses that have missing bathrooms as null values\n",
        "df_rentapts[df_rentapts['Bathrooms'].isnull()]"
      ]
    },
    {
      "cell_type": "code",
      "execution_count": 34,
      "metadata": {},
      "outputs": [
        {
          "data": {
            "text/plain": [
              "0       4.0\n",
              "1       4.0\n",
              "2       5.0\n",
              "3       4.0\n",
              "4       3.0\n",
              "       ... \n",
              "1843    3.0\n",
              "1844    2.0\n",
              "1845    5.0\n",
              "1846    4.0\n",
              "1847    2.0\n",
              "Name: Bathrooms, Length: 1845, dtype: float64"
            ]
          },
          "execution_count": 34,
          "metadata": {},
          "output_type": "execute_result"
        }
      ],
      "source": [
        "#we see the bathroom column has a good correlation with the price column\n",
        "#We shall group the houses by the number of bedrooms and fill the missing values\n",
        "#with the mean of the bathrooms in each group, rounded to whole numbers\n",
        "df_rentapts.groupby('Bedrooms')['Bathrooms'].transform(lambda x: x.fillna(round(x.mean())))"
      ]
    },
    {
      "cell_type": "code",
      "execution_count": 35,
      "metadata": {},
      "outputs": [],
      "source": [
        "df_rentapts['Bathrooms'] = df_rentapts.groupby('Bedrooms')['Bathrooms'].transform(lambda x: x.fillna(round(x.mean())))"
      ]
    },
    {
      "cell_type": "code",
      "execution_count": 36,
      "metadata": {},
      "outputs": [
        {
          "data": {
            "text/plain": [
              "Agency          0\n",
              "Neighborhood    0\n",
              "Price           0\n",
              "link            0\n",
              "sq_mtrs         0\n",
              "Bedrooms        0\n",
              "Bathrooms       0\n",
              "dtype: int64"
            ]
          },
          "execution_count": 36,
          "metadata": {},
          "output_type": "execute_result"
        }
      ],
      "source": [
        "#check for missing values\n",
        "df_rentapts.isnull().sum()"
      ]
    },
    {
      "cell_type": "code",
      "execution_count": 37,
      "metadata": {},
      "outputs": [],
      "source": [
        "#Extract the town from neighborhood column\n",
        "#for further analysis\n",
        "df_rentapts['Town'] = df_rentapts['Neighborhood'].str.split(',').str[-1]"
      ]
    },
    {
      "cell_type": "code",
      "execution_count": 38,
      "metadata": {},
      "outputs": [
        {
          "data": {
            "text/plain": [
              "37"
            ]
          },
          "execution_count": 38,
          "metadata": {},
          "output_type": "execute_result"
        }
      ],
      "source": [
        "#check for the towns\n",
        "df_rentapts['Town'].nunique()"
      ]
    },
    {
      "cell_type": "code",
      "execution_count": 39,
      "metadata": {},
      "outputs": [
        {
          "data": {
            "text/plain": [
              "Index(['Price', 'sq_mtrs', 'Bedrooms', 'Bathrooms', 'Town'], dtype='object')"
            ]
          },
          "execution_count": 39,
          "metadata": {},
          "output_type": "execute_result"
        }
      ],
      "source": [
        "\n",
        "\n",
        "#Notice that we won't need some of the columns to train our model; those are Agency, Neighborhood, and links.\n",
        "#You also notice that sq_mtrs column is not correlated with any of the columns in our data.\n",
        "#Remove non-required columns\n",
        "del df_rentapts[\"Agency\"]\n",
        "del df_rentapts[\"link\"] \n",
        "del df_rentapts[\"Neighborhood\"] \n",
        "\n",
        "df_rentapts.columns"
      ]
    },
    {
      "cell_type": "code",
      "execution_count": 40,
      "metadata": {},
      "outputs": [
        {
          "data": {
            "text/plain": [
              "Index(['Town', 'Bedrooms', 'Bathrooms', 'Price', 'rate', 'sq_mtrs'], dtype='object')"
            ]
          },
          "execution_count": 40,
          "metadata": {},
          "output_type": "execute_result"
        }
      ],
      "source": [
        "df_aparts['sq_mtrs'] = pd.Series(dtype='int64')\n",
        "df_aparts.columns"
      ]
    },
    {
      "cell_type": "code",
      "execution_count": 41,
      "metadata": {},
      "outputs": [
        {
          "data": {
            "text/plain": [
              "Index(['Price', 'sq_mtrs', 'Bedrooms', 'Bathrooms', 'Town'], dtype='object')"
            ]
          },
          "execution_count": 41,
          "metadata": {},
          "output_type": "execute_result"
        }
      ],
      "source": [
        "df_rentapts.columns"
      ]
    },
    {
      "cell_type": "code",
      "execution_count": 42,
      "metadata": {},
      "outputs": [],
      "source": [
        "# Define the new order of columns to look like the other dataset\n",
        "new_order = ['Town','sq_mtrs', 'Bedrooms', 'Bathrooms', 'Price']\n",
        "# Reorder the columns of the DataFrame\n",
        "df_aparts = df_rentapts.reindex(columns=new_order)\n",
        "df_rentapts = df_rentapts.reindex(columns=new_order)"
      ]
    },
    {
      "cell_type": "code",
      "execution_count": 43,
      "metadata": {},
      "outputs": [
        {
          "data": {
            "text/html": [
              "<div>\n",
              "<style scoped>\n",
              "    .dataframe tbody tr th:only-of-type {\n",
              "        vertical-align: middle;\n",
              "    }\n",
              "\n",
              "    .dataframe tbody tr th {\n",
              "        vertical-align: top;\n",
              "    }\n",
              "\n",
              "    .dataframe thead th {\n",
              "        text-align: right;\n",
              "    }\n",
              "</style>\n",
              "<table border=\"1\" class=\"dataframe\">\n",
              "  <thead>\n",
              "    <tr style=\"text-align: right;\">\n",
              "      <th></th>\n",
              "      <th>Town</th>\n",
              "      <th>sq_mtrs</th>\n",
              "      <th>Bedrooms</th>\n",
              "      <th>Bathrooms</th>\n",
              "      <th>Price</th>\n",
              "    </tr>\n",
              "  </thead>\n",
              "  <tbody>\n",
              "    <tr>\n",
              "      <th>0</th>\n",
              "      <td>Westlands</td>\n",
              "      <td>4.0</td>\n",
              "      <td>4.0</td>\n",
              "      <td>4.0</td>\n",
              "      <td>155000.0</td>\n",
              "    </tr>\n",
              "    <tr>\n",
              "      <th>1</th>\n",
              "      <td>Dagoretti North</td>\n",
              "      <td>300.0</td>\n",
              "      <td>3.0</td>\n",
              "      <td>4.0</td>\n",
              "      <td>100000.0</td>\n",
              "    </tr>\n",
              "    <tr>\n",
              "      <th>2</th>\n",
              "      <td>Dagoretti North</td>\n",
              "      <td>3.0</td>\n",
              "      <td>3.0</td>\n",
              "      <td>5.0</td>\n",
              "      <td>75000.0</td>\n",
              "    </tr>\n",
              "    <tr>\n",
              "      <th>3</th>\n",
              "      <td>Dagoretti North</td>\n",
              "      <td>227.0</td>\n",
              "      <td>3.0</td>\n",
              "      <td>4.0</td>\n",
              "      <td>135000.0</td>\n",
              "    </tr>\n",
              "    <tr>\n",
              "      <th>4</th>\n",
              "      <td>Embakasi</td>\n",
              "      <td>3.0</td>\n",
              "      <td>3.0</td>\n",
              "      <td>3.0</td>\n",
              "      <td>50000.0</td>\n",
              "    </tr>\n",
              "  </tbody>\n",
              "</table>\n",
              "</div>"
            ],
            "text/plain": [
              "               Town  sq_mtrs  Bedrooms  Bathrooms     Price\n",
              "0         Westlands      4.0       4.0        4.0  155000.0\n",
              "1   Dagoretti North    300.0       3.0        4.0  100000.0\n",
              "2   Dagoretti North      3.0       3.0        5.0   75000.0\n",
              "3   Dagoretti North    227.0       3.0        4.0  135000.0\n",
              "4          Embakasi      3.0       3.0        3.0   50000.0"
            ]
          },
          "execution_count": 43,
          "metadata": {},
          "output_type": "execute_result"
        }
      ],
      "source": [
        "df_rentapts.columns\n",
        "df_rentapts.head(5)"
      ]
    },
    {
      "attachments": {},
      "cell_type": "markdown",
      "metadata": {},
      "source": [
        "Merged Dataset"
      ]
    },
    {
      "cell_type": "code",
      "execution_count": 44,
      "metadata": {},
      "outputs": [
        {
          "data": {
            "text/plain": [
              "Index(['Town', 'sq_mtrs', 'Bedrooms', 'Bathrooms', 'Price'], dtype='object')"
            ]
          },
          "execution_count": 44,
          "metadata": {},
          "output_type": "execute_result"
        }
      ],
      "source": [
        "#Merge the dataset\n",
        "# Concatenate the datasets vertically\n",
        "merged_df = pd.concat([df_aparts, df_rentapts], axis=0, ignore_index=True)\n",
        "merged_df.columns"
      ]
    },
    {
      "cell_type": "code",
      "execution_count": 45,
      "metadata": {},
      "outputs": [
        {
          "data": {
            "text/plain": [
              "(3690, 5)"
            ]
          },
          "execution_count": 45,
          "metadata": {},
          "output_type": "execute_result"
        }
      ],
      "source": [
        "#Explore the merged dataset\n",
        "merged_df.shape"
      ]
    },
    {
      "cell_type": "code",
      "execution_count": 46,
      "metadata": {},
      "outputs": [
        {
          "name": "stdout",
          "output_type": "stream",
          "text": [
            "<class 'pandas.core.frame.DataFrame'>\n",
            "RangeIndex: 3690 entries, 0 to 3689\n",
            "Data columns (total 5 columns):\n",
            " #   Column     Non-Null Count  Dtype  \n",
            "---  ------     --------------  -----  \n",
            " 0   Town       3690 non-null   object \n",
            " 1   sq_mtrs    3690 non-null   float64\n",
            " 2   Bedrooms   3690 non-null   float64\n",
            " 3   Bathrooms  3690 non-null   float64\n",
            " 4   Price      3690 non-null   float64\n",
            "dtypes: float64(4), object(1)\n",
            "memory usage: 144.3+ KB\n"
          ]
        }
      ],
      "source": [
        "merged_df.info()"
      ]
    },
    {
      "cell_type": "code",
      "execution_count": 47,
      "metadata": {},
      "outputs": [
        {
          "data": {
            "text/html": [
              "<div>\n",
              "<style scoped>\n",
              "    .dataframe tbody tr th:only-of-type {\n",
              "        vertical-align: middle;\n",
              "    }\n",
              "\n",
              "    .dataframe tbody tr th {\n",
              "        vertical-align: top;\n",
              "    }\n",
              "\n",
              "    .dataframe thead th {\n",
              "        text-align: right;\n",
              "    }\n",
              "</style>\n",
              "<table border=\"1\" class=\"dataframe\">\n",
              "  <thead>\n",
              "    <tr style=\"text-align: right;\">\n",
              "      <th></th>\n",
              "      <th>Town</th>\n",
              "      <th>sq_mtrs</th>\n",
              "      <th>Bedrooms</th>\n",
              "      <th>Bathrooms</th>\n",
              "      <th>Price</th>\n",
              "    </tr>\n",
              "  </thead>\n",
              "  <tbody>\n",
              "    <tr>\n",
              "      <th>0</th>\n",
              "      <td>Westlands</td>\n",
              "      <td>4.0</td>\n",
              "      <td>4.0</td>\n",
              "      <td>4.0</td>\n",
              "      <td>155000.0</td>\n",
              "    </tr>\n",
              "    <tr>\n",
              "      <th>1</th>\n",
              "      <td>Dagoretti North</td>\n",
              "      <td>300.0</td>\n",
              "      <td>3.0</td>\n",
              "      <td>4.0</td>\n",
              "      <td>100000.0</td>\n",
              "    </tr>\n",
              "    <tr>\n",
              "      <th>2</th>\n",
              "      <td>Dagoretti North</td>\n",
              "      <td>3.0</td>\n",
              "      <td>3.0</td>\n",
              "      <td>5.0</td>\n",
              "      <td>75000.0</td>\n",
              "    </tr>\n",
              "    <tr>\n",
              "      <th>3</th>\n",
              "      <td>Dagoretti North</td>\n",
              "      <td>227.0</td>\n",
              "      <td>3.0</td>\n",
              "      <td>4.0</td>\n",
              "      <td>135000.0</td>\n",
              "    </tr>\n",
              "    <tr>\n",
              "      <th>4</th>\n",
              "      <td>Embakasi</td>\n",
              "      <td>3.0</td>\n",
              "      <td>3.0</td>\n",
              "      <td>3.0</td>\n",
              "      <td>50000.0</td>\n",
              "    </tr>\n",
              "  </tbody>\n",
              "</table>\n",
              "</div>"
            ],
            "text/plain": [
              "               Town  sq_mtrs  Bedrooms  Bathrooms     Price\n",
              "0         Westlands      4.0       4.0        4.0  155000.0\n",
              "1   Dagoretti North    300.0       3.0        4.0  100000.0\n",
              "2   Dagoretti North      3.0       3.0        5.0   75000.0\n",
              "3   Dagoretti North    227.0       3.0        4.0  135000.0\n",
              "4          Embakasi      3.0       3.0        3.0   50000.0"
            ]
          },
          "execution_count": 47,
          "metadata": {},
          "output_type": "execute_result"
        }
      ],
      "source": [
        "merged_df.head(5)"
      ]
    },
    {
      "cell_type": "code",
      "execution_count": 48,
      "metadata": {},
      "outputs": [
        {
          "data": {
            "text/plain": [
              "37"
            ]
          },
          "execution_count": 48,
          "metadata": {},
          "output_type": "execute_result"
        }
      ],
      "source": [
        "#check for the towns\n",
        "merged_df['Town'].nunique()"
      ]
    },
    {
      "cell_type": "code",
      "execution_count": 49,
      "metadata": {},
      "outputs": [
        {
          "data": {
            "text/html": [
              "<div>\n",
              "<style scoped>\n",
              "    .dataframe tbody tr th:only-of-type {\n",
              "        vertical-align: middle;\n",
              "    }\n",
              "\n",
              "    .dataframe tbody tr th {\n",
              "        vertical-align: top;\n",
              "    }\n",
              "\n",
              "    .dataframe thead th {\n",
              "        text-align: right;\n",
              "    }\n",
              "</style>\n",
              "<table border=\"1\" class=\"dataframe\">\n",
              "  <thead>\n",
              "    <tr style=\"text-align: right;\">\n",
              "      <th></th>\n",
              "      <th>Town</th>\n",
              "      <th>sq_mtrs</th>\n",
              "      <th>Bedrooms</th>\n",
              "      <th>Bathrooms</th>\n",
              "      <th>Price</th>\n",
              "    </tr>\n",
              "  </thead>\n",
              "  <tbody>\n",
              "    <tr>\n",
              "      <th>135</th>\n",
              "      <td>Athi River</td>\n",
              "      <td>3.0</td>\n",
              "      <td>3.0</td>\n",
              "      <td>2.0</td>\n",
              "      <td>35000.0</td>\n",
              "    </tr>\n",
              "    <tr>\n",
              "      <th>126</th>\n",
              "      <td>Athi River</td>\n",
              "      <td>3.0</td>\n",
              "      <td>3.0</td>\n",
              "      <td>2.0</td>\n",
              "      <td>35000.0</td>\n",
              "    </tr>\n",
              "    <tr>\n",
              "      <th>2056</th>\n",
              "      <td>Athi River</td>\n",
              "      <td>3.0</td>\n",
              "      <td>3.0</td>\n",
              "      <td>3.0</td>\n",
              "      <td>45000.0</td>\n",
              "    </tr>\n",
              "    <tr>\n",
              "      <th>37</th>\n",
              "      <td>Athi River</td>\n",
              "      <td>1.0</td>\n",
              "      <td>1.0</td>\n",
              "      <td>1.0</td>\n",
              "      <td>17000.0</td>\n",
              "    </tr>\n",
              "    <tr>\n",
              "      <th>2057</th>\n",
              "      <td>Athi River</td>\n",
              "      <td>3.0</td>\n",
              "      <td>3.0</td>\n",
              "      <td>3.0</td>\n",
              "      <td>45000.0</td>\n",
              "    </tr>\n",
              "  </tbody>\n",
              "</table>\n",
              "</div>"
            ],
            "text/plain": [
              "             Town  sq_mtrs  Bedrooms  Bathrooms    Price\n",
              "135    Athi River      3.0       3.0        2.0  35000.0\n",
              "126    Athi River      3.0       3.0        2.0  35000.0\n",
              "2056   Athi River      3.0       3.0        3.0  45000.0\n",
              "37     Athi River      1.0       1.0        1.0  17000.0\n",
              "2057   Athi River      3.0       3.0        3.0  45000.0"
            ]
          },
          "execution_count": 49,
          "metadata": {},
          "output_type": "execute_result"
        }
      ],
      "source": [
        "# Sort the DataFrame by the 'town' column in alphabetical order\n",
        "merged_df = merged_df.sort_values('Town')\n",
        "merged_df.head(5)"
      ]
    },
    {
      "cell_type": "code",
      "execution_count": 50,
      "metadata": {},
      "outputs": [
        {
          "name": "stdout",
          "output_type": "stream",
          "text": [
            "[' Athi River' ' Dagoretti North' ' Dagoretti South' ' Eldoret North'\n",
            " ' Embakasi' ' Kabete' ' Kajiado North' ' Kangundo' ' Kasarani' ' Kiambaa'\n",
            " ' Kiambu Constituency' ' Kiambu Road' ' Kiambu Town' ' Kikuyu'\n",
            " ' Kilifi South' ' Kisauni' ' Kisumu Central' ' Kisumu West' ' Langata'\n",
            " ' Makadara' ' Milimani' ' Mombasa CBD' ' Mombasa Road' ' Muthaiga'\n",
            " ' Mvita' ' Ngong' ' Ngong Road' ' Nyali' ' Roysambu' ' Ruaraka' ' Ruiru'\n",
            " ' Starehe' ' Thika' ' Thika East' ' Thika Road' ' Thindigua' ' Westlands']\n"
          ]
        }
      ],
      "source": [
        "unique_towns = merged_df['Town'].unique()\n",
        "print(unique_towns)"
      ]
    },
    {
      "cell_type": "code",
      "execution_count": 51,
      "metadata": {},
      "outputs": [
        {
          "data": {
            "text/plain": [
              "\"# Replace 'North', and 'South' from all the values in the 'town' column\\nmerged_df['Town'] = merged_df['Town'].str.replace(' North', '').str.replace(' South', '')\\n# Replace 'East' and 'West' from all the values in the 'town' column except Westlands\\nmerged_df['Town'] = merged_df['Town'].apply(lambda x: x if x == ' Westlands' else x.replace(' East', '').replace(' West', ''))\\n# Replace 'Road' and 'Town' from all the values in the 'town' column\\nmerged_df['Town'] = merged_df['Town'].str.replace(' Road', '').str.replace(' Town', '')\\nunique_towns = merged_df['Town'].unique()\\n# Replace 'Constituency' and 'Central' from all the values in the 'town' column\\nmerged_df['Town'] = merged_df['Town'].str.replace(' Constituency', '').str.replace(' Central', '')\\nunique_towns = merged_df['Town'].unique()\\n# Replace 'CBD' and 'Central' from all the values in the 'town' column\\nmerged_df['Town'] = merged_df['Town'].str.replace(' CBD', '').str.replace(' Central', '')\\n# Replace 'space' at the beginning from all the values in the 'town' column\\nmerged_df['Town'] = merged_df['Town'].str.lstrip()\\nunique_towns = merged_df['Town'].unique()\\nmerged_df = merged_df.sort_values('Town')\\nprint(unique_towns)\""
            ]
          },
          "execution_count": 51,
          "metadata": {},
          "output_type": "execute_result"
        }
      ],
      "source": [
        "'''# Replace 'North', and 'South' from all the values in the 'town' column\n",
        "merged_df['Town'] = merged_df['Town'].str.replace(' North', '').str.replace(' South', '')\n",
        "# Replace 'East' and 'West' from all the values in the 'town' column except Westlands\n",
        "merged_df['Town'] = merged_df['Town'].apply(lambda x: x if x == ' Westlands' else x.replace(' East', '').replace(' West', ''))\n",
        "# Replace 'Road' and 'Town' from all the values in the 'town' column\n",
        "merged_df['Town'] = merged_df['Town'].str.replace(' Road', '').str.replace(' Town', '')\n",
        "unique_towns = merged_df['Town'].unique()\n",
        "# Replace 'Constituency' and 'Central' from all the values in the 'town' column\n",
        "merged_df['Town'] = merged_df['Town'].str.replace(' Constituency', '').str.replace(' Central', '')\n",
        "unique_towns = merged_df['Town'].unique()\n",
        "# Replace 'CBD' and 'Central' from all the values in the 'town' column\n",
        "merged_df['Town'] = merged_df['Town'].str.replace(' CBD', '').str.replace(' Central', '')\n",
        "# Replace 'space' at the beginning from all the values in the 'town' column\n",
        "merged_df['Town'] = merged_df['Town'].str.lstrip()\n",
        "unique_towns = merged_df['Town'].unique()\n",
        "merged_df = merged_df.sort_values('Town')\n",
        "print(unique_towns)'''"
      ]
    },
    {
      "cell_type": "code",
      "execution_count": 52,
      "metadata": {},
      "outputs": [
        {
          "name": "stdout",
          "output_type": "stream",
          "text": [
            "All missing values in 'sq_mtrs' column have been filled\n"
          ]
        }
      ],
      "source": [
        "missing_mask = merged_df['sq_mtrs'].isna()\n",
        "\n",
        "for index, row in merged_df[missing_mask].iterrows():\n",
        "    town = row['Town']\n",
        "    bedrooms = row['Bedrooms']\n",
        "    bathrooms = row['Bathrooms']\n",
        "    similar_rows = merged_df[(merged_df['Town'] == town) & (merged_df['Bedrooms'] == bedrooms) & (merged_df['Bathrooms'] == bathrooms)]\n",
        "    \n",
        "    if len(similar_rows) == 0:\n",
        "        similar_rows = merged_df[(merged_df['Bedrooms'] == bedrooms) & (merged_df['Bathrooms'] == bathrooms)]\n",
        "    \n",
        "    if len(similar_rows) > 0:\n",
        "        merged_df.at[index, 'sq_mtrs'] = similar_rows['sq_mtrs'].mean()\n",
        "\n",
        "# Check for missing values\n",
        "missing_mask = merged_df['sq_mtrs'].isna()\n",
        "if missing_mask.any():\n",
        "    print(\"Rows with missing values in 'sq_mtrs' column:\")\n",
        "    print(merged_df[missing_mask])\n",
        "else:\n",
        "    print(\"All missing values in 'sq_mtrs' column have been filled\")"
      ]
    },
    {
      "cell_type": "code",
      "execution_count": 53,
      "metadata": {},
      "outputs": [],
      "source": [
        "# Save the merged dataset\n",
        "merged_df.to_csv('../merged_dataset.csv', index=False)"
      ]
    }
  ],
  "metadata": {
    "colab": {
      "provenance": []
    },
    "kernelspec": {
      "display_name": "venv",
      "language": "python",
      "name": "python3"
    },
    "language_info": {
      "codemirror_mode": {
        "name": "ipython",
        "version": 3
      },
      "file_extension": ".py",
      "mimetype": "text/x-python",
      "name": "python",
      "nbconvert_exporter": "python",
      "pygments_lexer": "ipython3",
      "version": "3.11.2"
    }
  },
  "nbformat": 4,
  "nbformat_minor": 0
}
